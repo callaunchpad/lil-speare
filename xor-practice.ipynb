{
 "cells": [
  {
   "cell_type": "code",
   "metadata": {
    "tags": [],
    "cell_id": "00000-086b38f0-ae12-44d7-bb0f-db004527697d",
    "deepnote_to_be_reexecuted": false,
    "source_hash": "e4f80527",
    "execution_start": 1645129119363,
    "execution_millis": 3,
    "deepnote_cell_height": 117,
    "deepnote_cell_type": "code"
   },
   "source": "import torch\nfrom torch import nn\nimport numpy as np",
   "outputs": [],
   "execution_count": null
  },
  {
   "cell_type": "code",
   "metadata": {
    "tags": [],
    "cell_id": "00001-2c29c569-4eb0-4461-acd2-64e43ba0000f",
    "deepnote_to_be_reexecuted": false,
    "source_hash": "9d0b3a01",
    "execution_start": 1645129120239,
    "execution_millis": 2,
    "deepnote_cell_height": 297,
    "deepnote_cell_type": "code"
   },
   "source": "class Net(nn.Module):\n    def __init__(self):\n      super(Net, self).__init__()\n\n      self.fc1 = nn.Linear(2, 2)\n      self.fc2 = nn.Linear(2, 1)\n\n    def forward(self, x):\n        hidden = self.fc1(x)\n        hidden = torch.sigmoid(hidden)\n        out = self.fc2(hidden)\n        \n        return out",
   "outputs": [],
   "execution_count": null
  },
  {
   "cell_type": "code",
   "metadata": {
    "tags": [],
    "cell_id": "00002-141053df-9049-4680-b473-c70805a95325",
    "deepnote_to_be_reexecuted": false,
    "source_hash": "d0d826e2",
    "execution_start": 1645129120824,
    "execution_millis": 355,
    "deepnote_cell_height": 190.75,
    "deepnote_cell_type": "code"
   },
   "source": "my_nn = Net()\nprint(my_nn)",
   "outputs": [
    {
     "name": "stdout",
     "text": "Net(\n  (fc1): Linear(in_features=2, out_features=2, bias=True)\n  (fc2): Linear(in_features=2, out_features=1, bias=True)\n)\n",
     "output_type": "stream"
    }
   ],
   "execution_count": null
  },
  {
   "cell_type": "code",
   "metadata": {
    "tags": [],
    "cell_id": "00003-6771eb72-82b8-4bc9-a17f-8570484baae9",
    "deepnote_to_be_reexecuted": false,
    "source_hash": "60886a6d",
    "execution_start": 1645129121785,
    "execution_millis": 4,
    "deepnote_cell_height": 207,
    "deepnote_cell_type": "code"
   },
   "source": "x = torch.tensor([\n    [0, 0],\n    [0, 1],\n    [1, 0],\n    [1, 1]\n]).float()\n\ny = torch.tensor([[0], [1], [1], [0]]).float()",
   "outputs": [],
   "execution_count": null
  },
  {
   "cell_type": "code",
   "metadata": {
    "tags": [],
    "cell_id": "00004-71d0ddae-10f3-432d-90d1-6d2848c0cb26",
    "deepnote_to_be_reexecuted": false,
    "source_hash": "9951288e",
    "execution_start": 1645129123166,
    "execution_millis": 4,
    "deepnote_cell_height": 135,
    "deepnote_cell_type": "code"
   },
   "source": "LR = 0.001\nEPOCHS = 1000\nloss_func = nn.MSELoss()\noptimizer = torch.optim.Adam(my_nn.parameters(), lr = 0.03) ",
   "outputs": [],
   "execution_count": null
  },
  {
   "cell_type": "code",
   "metadata": {
    "tags": [],
    "cell_id": "00004-1937ec24-78b3-4b16-8c88-88d46a1e75ad",
    "deepnote_to_be_reexecuted": false,
    "source_hash": "8c41711f",
    "execution_start": 1645129124544,
    "execution_millis": 743,
    "deepnote_cell_height": 438,
    "deepnote_cell_type": "code"
   },
   "source": "for epoch in range(EPOCHS):\n    out = my_nn.forward(x)\n    loss = loss_func(out, y)\n    loss.backward()\n    optimizer.step()\n    optimizer.zero_grad()\n\n    if epoch % 100 == 0:\n        print(loss)",
   "outputs": [
    {
     "name": "stdout",
     "text": "tensor(1.8424, grad_fn=<MseLossBackward0>)\ntensor(0.2325, grad_fn=<MseLossBackward0>)\ntensor(0.1974, grad_fn=<MseLossBackward0>)\ntensor(0.1765, grad_fn=<MseLossBackward0>)\ntensor(0.1589, grad_fn=<MseLossBackward0>)\ntensor(0.0991, grad_fn=<MseLossBackward0>)\ntensor(0.0136, grad_fn=<MseLossBackward0>)\ntensor(0.0003, grad_fn=<MseLossBackward0>)\ntensor(2.0925e-06, grad_fn=<MseLossBackward0>)\ntensor(7.8500e-09, grad_fn=<MseLossBackward0>)\n",
     "output_type": "stream"
    }
   ],
   "execution_count": null
  },
  {
   "cell_type": "code",
   "metadata": {
    "tags": [],
    "cell_id": "00003-f010aa33-9b7b-4b4e-8e49-94d5f5baf69c",
    "deepnote_to_be_reexecuted": false,
    "source_hash": "8ef070b2",
    "execution_start": 1645129105463,
    "execution_millis": 8,
    "deepnote_output_heights": [
     21.1875
    ],
    "deepnote_cell_height": 171,
    "deepnote_cell_type": "code"
   },
   "source": "def classify(input):\n    test = np.array(input)\n    test = torch.tensor(test, dtype=torch.float)\n    output = my_nn(test)\n\n    return 1 if output[0] > 0.5 else 0",
   "outputs": [],
   "execution_count": null
  },
  {
   "cell_type": "code",
   "metadata": {
    "tags": [],
    "cell_id": "00004-876d2ec9-e14f-48da-ae42-e3f4a1754972",
    "deepnote_cell_height": 118.1875,
    "deepnote_to_be_reexecuted": false,
    "source_hash": "f94689bc",
    "execution_start": 1645129112089,
    "execution_millis": 7,
    "deepnote_output_heights": [
     21.1875
    ],
    "deepnote_cell_type": "code"
   },
   "source": "classify([0,0])",
   "outputs": [
    {
     "output_type": "execute_result",
     "execution_count": 29,
     "data": {
      "text/plain": "0"
     },
     "metadata": {}
    }
   ],
   "execution_count": null
  },
  {
   "cell_type": "markdown",
   "source": "<a style='text-decoration:none;line-height:16px;display:flex;color:#5B5B62;padding:10px;justify-content:end;' href='https://deepnote.com?utm_source=created-in-deepnote-cell&projectId=d19f7349-666c-452b-af43-7a0d9fe413f0' target=\"_blank\">\n<img alt='Created in deepnote.com' style='display:inline;max-height:16px;margin:0px;margin-right:7.5px;' src='data:image/svg+xml;base64,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' > </img>\nCreated in <span style='font-weight:600;margin-left:4px;'>Deepnote</span></a>",
   "metadata": {
    "tags": [],
    "created_in_deepnote_cell": true,
    "deepnote_cell_type": "markdown"
   }
  }
 ],
 "nbformat": 4,
 "nbformat_minor": 2,
 "metadata": {
  "orig_nbformat": 2,
  "deepnote": {
   "is_reactive": false
  },
  "deepnote_notebook_id": "3b17d8e5-9916-455b-9700-eba3866be0cf",
  "deepnote_execution_queue": []
 }
}