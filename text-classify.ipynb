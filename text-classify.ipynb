{
 "cells": [
  {
   "cell_type": "code",
   "metadata": {
    "tags": [],
    "deepnote_to_be_reexecuted": false,
    "source_hash": "c42f365",
    "execution_start": 1646344682484,
    "execution_millis": 4057,
    "cell_id": "acc4adf5-aa24-406a-a754-b135dd91481e",
    "deepnote_cell_height": 403.4375,
    "deepnote_cell_type": "code"
   },
   "source": "!pip install bcolz==1.2.1",
   "execution_count": 17,
   "outputs": [
    {
     "name": "stdout",
     "text": "Requirement already satisfied: bcolz==1.2.1 in /root/venv/lib/python3.7/site-packages (1.2.1)\nRequirement already satisfied: numpy>=1.7 in /shared-libs/python3.7/py/lib/python3.7/site-packages (from bcolz==1.2.1) (1.19.5)\n\u001b[33mWARNING: You are using pip version 20.1.1; however, version 22.0.3 is available.\nYou should consider upgrading via the '/root/venv/bin/python -m pip install --upgrade pip' command.\u001b[0m\n",
     "output_type": "stream"
    }
   ]
  },
  {
   "cell_type": "code",
   "metadata": {
    "tags": [],
    "deepnote_to_be_reexecuted": false,
    "source_hash": "ba9ccd0",
    "execution_start": 1646344686546,
    "execution_millis": 6,
    "cell_id": "00001-1fa2c831-6563-42f1-afb0-6acacd757e0f",
    "deepnote_cell_height": 276.375,
    "deepnote_cell_type": "code"
   },
   "source": "import bcolz\nimport numpy as np\nimport pickle\nfrom helper.word2vec import Word2Vec\nfrom helper.text_cleaning import clean, remove_stop\nimport torch\nfrom torch import nn\nimport torch.nn.functional as F\nimport torch.optim as optim",
   "execution_count": 18,
   "outputs": []
  },
  {
   "cell_type": "code",
   "metadata": {
    "tags": [],
    "deepnote_to_be_reexecuted": false,
    "source_hash": "e52f288a",
    "execution_start": 1646344692602,
    "execution_millis": 59810,
    "cell_id": "00002-ee92f835-5a2e-45d2-9e0f-31553d62ce26",
    "deepnote_cell_height": 144.1875,
    "deepnote_cell_type": "code"
   },
   "source": "w2v = Word2Vec()",
   "execution_count": 19,
   "outputs": []
  },
  {
   "cell_type": "code",
   "metadata": {
    "tags": [],
    "deepnote_to_be_reexecuted": false,
    "source_hash": "c53beb0c",
    "execution_start": 1646344399390,
    "execution_millis": 19,
    "cell_id": "00003-cf182b83-8c6c-4abc-a076-f8b8fbb5214d",
    "deepnote_cell_height": 207,
    "deepnote_cell_type": "code"
   },
   "source": "# cleans up line, splits it, and removes stop words\ndef get_valuable_tokens(line):\n    line = clean(line)\n    line = line.split(' ')\n    line = [w for w in line if w]\n    line = remove_stop(line)\n\n    return line",
   "execution_count": 6,
   "outputs": []
  },
  {
   "cell_type": "code",
   "metadata": {
    "cell_id": "3c1441fb-4381-4e47-b081-491b81ba7714",
    "tags": [],
    "deepnote_to_be_reexecuted": false,
    "source_hash": "e428396d",
    "execution_start": 1646344406198,
    "execution_millis": 1,
    "deepnote_cell_height": 130.1875,
    "deepnote_output_heights": [
     193.875
    ],
    "deepnote_cell_type": "code"
   },
   "source": "demo_tokens = get_valuable_tokens(\"Late night when you need my love Call me on my cell phone And I know when that hotline bling\\n\")\nprint(demo_tokens)",
   "execution_count": 7,
   "outputs": [
    {
     "name": "stdout",
     "text": "['late', 'night', 'need', 'love', 'call', 'cell', 'phone', 'know', 'hotline', 'bling']\n",
     "output_type": "stream"
    }
   ]
  },
  {
   "cell_type": "code",
   "metadata": {
    "cell_id": "972fa430-cd2a-4882-b07f-6f2aa23de134",
    "tags": [],
    "deepnote_cell_height": 441,
    "deepnote_to_be_reexecuted": false,
    "source_hash": "2df8c19e",
    "execution_start": 1646344410010,
    "execution_millis": 8,
    "deepnote_cell_type": "code"
   },
   "source": "def vectorize(tokens):\n    w2vecs = [(token, w2v.v(token)) for token in tokens]\n    tokens = []\n    for token, w2vec in w2vecs:\n        # if w2vec is None:\n            # fixes = [\n            #     (token.endswith(\"d\"), token[:-1] + \"ed\")\n            # ]\n            # for (cond, fix) in fixes:\n            #     if w2vec is not None:\n            #         break\n            #     if cond:\n            #         w2vec = w2v.v(fix)\n        \n        if w2vec is not None:\n            tokens.append(w2vec)\n        else:\n            print(f\"warning: {token} has no w2vec repr\")\n\n    assert not any([x is None for x in tokens]), tokens\n    return tokens",
   "execution_count": 8,
   "outputs": []
  },
  {
   "cell_type": "code",
   "metadata": {
    "cell_id": "f4464f68-6462-45ee-8eeb-e2634c832ee6",
    "tags": [],
    "deepnote_cell_height": 737,
    "deepnote_to_be_reexecuted": false,
    "source_hash": "8f7ba81b",
    "execution_start": 1646344412169,
    "execution_millis": 16,
    "deepnote_output_heights": [
     611
    ],
    "deepnote_cell_type": "code"
   },
   "source": "demo_vectors = vectorize(demo_tokens)\nprint(len(demo_vectors), demo_vectors[0].shape)\nprint(demo_vectors)",
   "execution_count": 9,
   "outputs": [
    {
     "name": "stdout",
     "text": "10 (50,)\n[array([ 0.21994 , -0.014414, -0.24502 , -0.31895 , -0.32942 , -0.48162 ,\n       -1.5818  ,  0.27079 , -1.3613  ,  0.05855 , -0.10478 , -0.44319 ,\n       -0.40213 ,  0.05586 ,  0.81842 ,  0.30685 , -1.0009  , -0.8302  ,\n       -1.2259  ,  0.54736 ,  0.60423 ,  0.33345 ,  0.02349 , -0.58298 ,\n        0.068311, -1.4961  ,  0.12819 , -0.18686 , -0.17151 ,  0.90003 ,\n        3.1905  , -0.59917 , -0.097557, -0.021908,  0.54973 , -0.14088 ,\n        0.18978 ,  0.34743 , -0.061865, -0.067381, -0.5258  ,  0.55705 ,\n       -0.5649  , -0.42131 ,  0.24299 ,  0.1408  , -0.074287, -0.41503 ,\n       -0.17553 , -0.62826 ]), array([ 3.0814e-01,  4.7129e-01, -2.7929e-01,  3.7760e-01,  2.5881e-01,\n       -6.4276e-01, -1.0796e+00,  9.0681e-01, -5.7363e-01, -2.3595e-01,\n       -9.0416e-01, -8.6146e-01, -4.9546e-01,  6.7405e-01,  9.5942e-01,\n       -1.1408e-01, -5.3341e-01, -3.1823e-01, -1.6635e+00, -3.7480e-01,\n        2.2628e-01,  1.0046e+00,  3.7941e-01,  5.6968e-02,  6.0677e-02,\n       -1.2871e+00, -1.1612e-01,  6.4276e-01,  6.8342e-01, -6.5738e-01,\n        2.9820e+00,  9.6835e-01, -5.1526e-01, -2.1609e-01,  4.3189e-02,\n        2.5528e-01,  8.1188e-01, -3.3134e-01,  7.1083e-04, -3.5930e-02,\n       -4.9562e-01,  4.5779e-01, -7.0741e-01, -1.9088e-01,  2.7527e-01,\n        2.8616e-01, -1.0418e-01, -5.9080e-01, -2.2165e-01,  4.4646e-01]), array([ 0.41495 ,  0.11293 ,  0.45591 , -0.51796 ,  0.3896  , -0.21307 ,\n       -0.10788 , -0.11875 ,  0.15723 , -0.015614,  0.010519,  0.62965 ,\n       -0.02517 , -0.059925,  0.28582 ,  0.70567 ,  0.62114 , -0.16097 ,\n        0.88253 , -1.2017  , -0.34935 ,  0.20968 ,  0.17506 , -0.20855 ,\n        0.49624 , -1.411   , -0.24267 , -0.41445 ,  0.74857 , -0.38625 ,\n        3.9179  ,  1.412   , -0.8121  , -0.59706 , -0.060011,  0.35452 ,\n        0.16539 ,  0.25601 ,  0.24476 , -0.38762 , -0.17842 , -0.20283 ,\n        0.34743 ,  0.52291 ,  0.29194 ,  0.47418 , -0.04308 ,  0.77093 ,\n       -0.27575 ,  0.57742 ]), array([-0.13886  ,  1.1401   , -0.85212  , -0.29212  ,  0.75534  ,\n        0.82762  , -0.3181   ,  0.0072204, -0.34762  ,  1.0731   ,\n       -0.24665  ,  0.97765  , -0.55835  , -0.090318 ,  0.83182  ,\n       -0.33317  ,  0.22648  ,  0.30913  ,  0.026929 , -0.086739 ,\n       -0.14703  ,  1.3543   ,  0.53695  ,  0.43735  ,  1.2749   ,\n       -1.4382   , -1.2815   , -0.15196  ,  1.0506   , -0.93644  ,\n        2.7561   ,  0.58967  , -0.29473  ,  0.27574  , -0.32928  ,\n       -0.201    , -0.28547  , -0.45987  , -0.14603  , -0.69372  ,\n        0.070761 , -0.19326  , -0.1855   , -0.16095  ,  0.24268  ,\n        0.20784  ,  0.030924 , -1.3711   , -0.28606  ,  0.2898   ]), array([ 0.098201 ,  0.39924  ,  0.25697  , -0.085349 ,  0.27175  ,\n       -0.63637  , -0.62719  ,  0.25895  , -0.53249  , -0.22927  ,\n       -0.76258  ,  0.2173   ,  0.37017  ,  0.082194 ,  0.46016  ,\n        0.14439  , -0.35333  , -0.62408  ,  0.1025   , -0.58597  ,\n        0.16874  ,  0.41939  ,  0.082275 ,  0.48931  ,  0.62348  ,\n       -1.8434   , -0.11815  , -0.25465  ,  0.38033  , -0.41893  ,\n        3.0159   ,  0.35014  , -1.2656   , -0.14951  , -0.32056  ,\n       -0.72769  ,  0.5398   , -1.2532   , -0.013795 , -0.0048093,\n        0.37453  ,  0.41136  , -0.12614  ,  0.48701  ,  0.4782   ,\n        0.35898  , -0.1709   ,  0.70284  ,  0.32207  ,  0.77503  ]), array([ 1.4761e+00,  4.2424e-01,  1.4387e+00,  5.2770e-01,  6.8466e-01,\n        1.0248e+00,  4.2836e-01, -4.3636e-01,  9.3776e-01,  4.9990e-01,\n        7.6628e-01, -6.2570e-01,  1.1867e-01,  7.6455e-01, -4.1856e-01,\n        8.0716e-01, -1.1450e+00, -7.5398e-02,  4.7328e-01,  1.6632e-01,\n        2.5749e-01, -4.1617e-01,  4.5851e-01,  6.5778e-01, -4.7289e-01,\n       -1.4163e+00,  4.4180e-01, -2.5573e-01,  3.5258e-01, -2.8840e-01,\n        2.5676e+00, -3.1983e-01, -4.4509e-01, -1.2688e+00, -7.3922e-02,\n        1.1260e-03,  3.5743e-01,  4.4641e-01,  2.6805e-01,  3.8776e-01,\n        4.4051e-01, -2.6319e-01, -4.8449e-01,  7.8691e-01,  1.4343e+00,\n       -3.4328e-01,  6.0773e-01, -9.8090e-01, -4.7391e-01, -9.0641e-03]), array([ 0.85127 , -0.046713,  1.7694  ,  1.2673  ,  0.17606 , -0.16567 ,\n       -1.0085  ,  0.12969 ,  0.19852 ,  0.076439, -0.14111 ,  0.080613,\n        0.056659,  0.24052 ,  0.36689 ,  0.34795 , -2.1473  , -0.0285  ,\n        0.66668 , -0.61758 ,  1.0825  ,  0.50555 , -0.094894,  0.898   ,\n        0.55883 , -1.8148  ,  0.1511  , -0.18278 ,  0.45762 , -0.79109 ,\n        2.8633  ,  0.3695  ,  0.12702 ,  0.29574 , -0.079129, -0.26064 ,\n        0.030947, -0.27305 , -0.30831 ,  0.037718,  1.3159  ,  0.9517  ,\n       -0.44239 ,  0.67686 ,  0.17581 , -0.24156 , -0.083272,  0.12821 ,\n       -0.018288,  0.35615 ]), array([ 0.28328  ,  0.12887  ,  0.29861  , -0.23238  ,  0.88263  ,\n       -0.30814  , -0.61148  ,  0.37254  , -0.40449  ,  0.17351  ,\n       -0.13958  ,  0.67868  , -0.55673  , -0.13453  ,  1.1441   ,\n        0.53457  ,  0.59148  ,  0.19083  ,  0.25406  , -0.71581  ,\n       -0.87951  ,  0.72879  ,  0.67054  ,  0.62866  ,  1.0034   ,\n       -2.2327   , -1.194    , -0.06245  ,  0.93933  , -1.1132   ,\n        2.926    ,  0.59809  , -0.51255  , -0.49886  , -0.016524 ,\n       -0.20697  , -0.059229 , -0.0072689,  0.53314  , -0.14621  ,\n       -0.21417  ,  0.24102  ,  0.21648  ,  0.73351  ,  0.43582  ,\n        0.045278 , -0.25489  ,  0.15273  , -0.13088  ,  0.89397  ]), array([ 0.29505 , -0.1502  ,  0.27654 ,  0.39095 , -0.37122 , -0.16295 ,\n       -0.1862  , -0.24707 ,  1.597   , -0.74326 , -0.60481 , -0.21536 ,\n        0.7606  ,  0.29647 ,  0.38582 , -0.69974 , -1.5308  ,  0.095035,\n        0.60124 ,  0.70003 ,  0.80658 ,  0.19369 , -0.28392 ,  0.71957 ,\n        0.24062 , -0.57302 ,  0.76234 , -0.64298 ,  0.21011 , -0.22007 ,\n        0.97673 ,  0.61607 , -0.45611 ,  0.044264, -0.9069  ,  0.534   ,\n        0.19529 , -1.3565  ,  0.49893 ,  0.42711 ,  0.30777 , -0.13147 ,\n       -0.10161 ,  0.88919 ,  0.49045 , -0.14877 ,  0.33958 ,  0.97425 ,\n        0.59559 ,  0.24011 ]), array([-0.68855  ,  0.81781  ,  0.09858  ,  0.34054  , -0.4424   ,\n       -0.77332  ,  1.3956   , -0.77553  , -0.94304  ,  1.7447   ,\n       -0.0069879,  0.37578  , -0.29686  , -0.19215  ,  0.75455  ,\n        0.43748  , -0.27991  ,  1.2666   ,  0.88786  , -0.050848 ,\n       -0.14053  , -0.54843  ,  0.26395  , -0.047937 , -0.52002  ,\n       -0.39977  , -1.3612   ,  0.88496  ,  0.74954  , -0.66381  ,\n       -0.15418  ,  0.68033  , -0.32441  ,  0.86011  , -0.42209  ,\n        0.65069  , -0.42943  , -0.23837  , -0.17162  ,  0.061762 ,\n       -0.3654   ,  0.65233  , -0.89933  , -0.059702 ,  0.68245  ,\n       -1.0596   ,  0.2986   , -0.4547   ,  0.010405 , -0.58657  ])]\n",
     "output_type": "stream"
    }
   ]
  },
  {
   "outputs": [],
   "execution_count": 10,
   "cell_type": "code",
   "source": "def group_vectors(vectors, group_size=5):\n    output = []\n    for i in range(len(vectors) // 5):\n        output.append(np.array([v for v in vectors[i*5:(i+1)*5]]))\n    return output",
   "metadata": {
    "cell_id": "4da755a0-8151-46e2-b70a-c1590d1c7f3c",
    "tags": [],
    "deepnote_cell_height": 176.390625,
    "deepnote_to_be_reexecuted": false,
    "source_hash": "14572258",
    "execution_start": 1646344421359,
    "execution_millis": 4,
    "deepnote_cell_type": "code"
   }
  },
  {
   "cell_type": "code",
   "metadata": {
    "cell_id": "30d105fc-2a55-4287-9c4c-ccb1fb8619b1",
    "tags": [],
    "deepnote_cell_height": 737,
    "deepnote_to_be_reexecuted": false,
    "source_hash": "d4fbd430",
    "execution_start": 1646344455915,
    "execution_millis": 39,
    "deepnote_cell_type": "code"
   },
   "source": "demo_groups = group_vectors(demo_vectors)\nprint(len(demo_groups), demo_groups[0].shape)\nprint(demo_groups)",
   "execution_count": 11,
   "outputs": [
    {
     "name": "stdout",
     "text": "2 (5, 50)\n[array([[ 2.1994e-01, -1.4414e-02, -2.4502e-01, -3.1895e-01, -3.2942e-01,\n        -4.8162e-01, -1.5818e+00,  2.7079e-01, -1.3613e+00,  5.8550e-02,\n        -1.0478e-01, -4.4319e-01, -4.0213e-01,  5.5860e-02,  8.1842e-01,\n         3.0685e-01, -1.0009e+00, -8.3020e-01, -1.2259e+00,  5.4736e-01,\n         6.0423e-01,  3.3345e-01,  2.3490e-02, -5.8298e-01,  6.8311e-02,\n        -1.4961e+00,  1.2819e-01, -1.8686e-01, -1.7151e-01,  9.0003e-01,\n         3.1905e+00, -5.9917e-01, -9.7557e-02, -2.1908e-02,  5.4973e-01,\n        -1.4088e-01,  1.8978e-01,  3.4743e-01, -6.1865e-02, -6.7381e-02,\n        -5.2580e-01,  5.5705e-01, -5.6490e-01, -4.2131e-01,  2.4299e-01,\n         1.4080e-01, -7.4287e-02, -4.1503e-01, -1.7553e-01, -6.2826e-01],\n       [ 3.0814e-01,  4.7129e-01, -2.7929e-01,  3.7760e-01,  2.5881e-01,\n        -6.4276e-01, -1.0796e+00,  9.0681e-01, -5.7363e-01, -2.3595e-01,\n        -9.0416e-01, -8.6146e-01, -4.9546e-01,  6.7405e-01,  9.5942e-01,\n        -1.1408e-01, -5.3341e-01, -3.1823e-01, -1.6635e+00, -3.7480e-01,\n         2.2628e-01,  1.0046e+00,  3.7941e-01,  5.6968e-02,  6.0677e-02,\n        -1.2871e+00, -1.1612e-01,  6.4276e-01,  6.8342e-01, -6.5738e-01,\n         2.9820e+00,  9.6835e-01, -5.1526e-01, -2.1609e-01,  4.3189e-02,\n         2.5528e-01,  8.1188e-01, -3.3134e-01,  7.1083e-04, -3.5930e-02,\n        -4.9562e-01,  4.5779e-01, -7.0741e-01, -1.9088e-01,  2.7527e-01,\n         2.8616e-01, -1.0418e-01, -5.9080e-01, -2.2165e-01,  4.4646e-01],\n       [ 4.1495e-01,  1.1293e-01,  4.5591e-01, -5.1796e-01,  3.8960e-01,\n        -2.1307e-01, -1.0788e-01, -1.1875e-01,  1.5723e-01, -1.5614e-02,\n         1.0519e-02,  6.2965e-01, -2.5170e-02, -5.9925e-02,  2.8582e-01,\n         7.0567e-01,  6.2114e-01, -1.6097e-01,  8.8253e-01, -1.2017e+00,\n        -3.4935e-01,  2.0968e-01,  1.7506e-01, -2.0855e-01,  4.9624e-01,\n        -1.4110e+00, -2.4267e-01, -4.1445e-01,  7.4857e-01, -3.8625e-01,\n         3.9179e+00,  1.4120e+00, -8.1210e-01, -5.9706e-01, -6.0011e-02,\n         3.5452e-01,  1.6539e-01,  2.5601e-01,  2.4476e-01, -3.8762e-01,\n        -1.7842e-01, -2.0283e-01,  3.4743e-01,  5.2291e-01,  2.9194e-01,\n         4.7418e-01, -4.3080e-02,  7.7093e-01, -2.7575e-01,  5.7742e-01],\n       [-1.3886e-01,  1.1401e+00, -8.5212e-01, -2.9212e-01,  7.5534e-01,\n         8.2762e-01, -3.1810e-01,  7.2204e-03, -3.4762e-01,  1.0731e+00,\n        -2.4665e-01,  9.7765e-01, -5.5835e-01, -9.0318e-02,  8.3182e-01,\n        -3.3317e-01,  2.2648e-01,  3.0913e-01,  2.6929e-02, -8.6739e-02,\n        -1.4703e-01,  1.3543e+00,  5.3695e-01,  4.3735e-01,  1.2749e+00,\n        -1.4382e+00, -1.2815e+00, -1.5196e-01,  1.0506e+00, -9.3644e-01,\n         2.7561e+00,  5.8967e-01, -2.9473e-01,  2.7574e-01, -3.2928e-01,\n        -2.0100e-01, -2.8547e-01, -4.5987e-01, -1.4603e-01, -6.9372e-01,\n         7.0761e-02, -1.9326e-01, -1.8550e-01, -1.6095e-01,  2.4268e-01,\n         2.0784e-01,  3.0924e-02, -1.3711e+00, -2.8606e-01,  2.8980e-01],\n       [ 9.8201e-02,  3.9924e-01,  2.5697e-01, -8.5349e-02,  2.7175e-01,\n        -6.3637e-01, -6.2719e-01,  2.5895e-01, -5.3249e-01, -2.2927e-01,\n        -7.6258e-01,  2.1730e-01,  3.7017e-01,  8.2194e-02,  4.6016e-01,\n         1.4439e-01, -3.5333e-01, -6.2408e-01,  1.0250e-01, -5.8597e-01,\n         1.6874e-01,  4.1939e-01,  8.2275e-02,  4.8931e-01,  6.2348e-01,\n        -1.8434e+00, -1.1815e-01, -2.5465e-01,  3.8033e-01, -4.1893e-01,\n         3.0159e+00,  3.5014e-01, -1.2656e+00, -1.4951e-01, -3.2056e-01,\n        -7.2769e-01,  5.3980e-01, -1.2532e+00, -1.3795e-02, -4.8093e-03,\n         3.7453e-01,  4.1136e-01, -1.2614e-01,  4.8701e-01,  4.7820e-01,\n         3.5898e-01, -1.7090e-01,  7.0284e-01,  3.2207e-01,  7.7503e-01]]), array([[ 1.4761e+00,  4.2424e-01,  1.4387e+00,  5.2770e-01,  6.8466e-01,\n         1.0248e+00,  4.2836e-01, -4.3636e-01,  9.3776e-01,  4.9990e-01,\n         7.6628e-01, -6.2570e-01,  1.1867e-01,  7.6455e-01, -4.1856e-01,\n         8.0716e-01, -1.1450e+00, -7.5398e-02,  4.7328e-01,  1.6632e-01,\n         2.5749e-01, -4.1617e-01,  4.5851e-01,  6.5778e-01, -4.7289e-01,\n        -1.4163e+00,  4.4180e-01, -2.5573e-01,  3.5258e-01, -2.8840e-01,\n         2.5676e+00, -3.1983e-01, -4.4509e-01, -1.2688e+00, -7.3922e-02,\n         1.1260e-03,  3.5743e-01,  4.4641e-01,  2.6805e-01,  3.8776e-01,\n         4.4051e-01, -2.6319e-01, -4.8449e-01,  7.8691e-01,  1.4343e+00,\n        -3.4328e-01,  6.0773e-01, -9.8090e-01, -4.7391e-01, -9.0641e-03],\n       [ 8.5127e-01, -4.6713e-02,  1.7694e+00,  1.2673e+00,  1.7606e-01,\n        -1.6567e-01, -1.0085e+00,  1.2969e-01,  1.9852e-01,  7.6439e-02,\n        -1.4111e-01,  8.0613e-02,  5.6659e-02,  2.4052e-01,  3.6689e-01,\n         3.4795e-01, -2.1473e+00, -2.8500e-02,  6.6668e-01, -6.1758e-01,\n         1.0825e+00,  5.0555e-01, -9.4894e-02,  8.9800e-01,  5.5883e-01,\n        -1.8148e+00,  1.5110e-01, -1.8278e-01,  4.5762e-01, -7.9109e-01,\n         2.8633e+00,  3.6950e-01,  1.2702e-01,  2.9574e-01, -7.9129e-02,\n        -2.6064e-01,  3.0947e-02, -2.7305e-01, -3.0831e-01,  3.7718e-02,\n         1.3159e+00,  9.5170e-01, -4.4239e-01,  6.7686e-01,  1.7581e-01,\n        -2.4156e-01, -8.3272e-02,  1.2821e-01, -1.8288e-02,  3.5615e-01],\n       [ 2.8328e-01,  1.2887e-01,  2.9861e-01, -2.3238e-01,  8.8263e-01,\n        -3.0814e-01, -6.1148e-01,  3.7254e-01, -4.0449e-01,  1.7351e-01,\n        -1.3958e-01,  6.7868e-01, -5.5673e-01, -1.3453e-01,  1.1441e+00,\n         5.3457e-01,  5.9148e-01,  1.9083e-01,  2.5406e-01, -7.1581e-01,\n        -8.7951e-01,  7.2879e-01,  6.7054e-01,  6.2866e-01,  1.0034e+00,\n        -2.2327e+00, -1.1940e+00, -6.2450e-02,  9.3933e-01, -1.1132e+00,\n         2.9260e+00,  5.9809e-01, -5.1255e-01, -4.9886e-01, -1.6524e-02,\n        -2.0697e-01, -5.9229e-02, -7.2689e-03,  5.3314e-01, -1.4621e-01,\n        -2.1417e-01,  2.4102e-01,  2.1648e-01,  7.3351e-01,  4.3582e-01,\n         4.5278e-02, -2.5489e-01,  1.5273e-01, -1.3088e-01,  8.9397e-01],\n       [ 2.9505e-01, -1.5020e-01,  2.7654e-01,  3.9095e-01, -3.7122e-01,\n        -1.6295e-01, -1.8620e-01, -2.4707e-01,  1.5970e+00, -7.4326e-01,\n        -6.0481e-01, -2.1536e-01,  7.6060e-01,  2.9647e-01,  3.8582e-01,\n        -6.9974e-01, -1.5308e+00,  9.5035e-02,  6.0124e-01,  7.0003e-01,\n         8.0658e-01,  1.9369e-01, -2.8392e-01,  7.1957e-01,  2.4062e-01,\n        -5.7302e-01,  7.6234e-01, -6.4298e-01,  2.1011e-01, -2.2007e-01,\n         9.7673e-01,  6.1607e-01, -4.5611e-01,  4.4264e-02, -9.0690e-01,\n         5.3400e-01,  1.9529e-01, -1.3565e+00,  4.9893e-01,  4.2711e-01,\n         3.0777e-01, -1.3147e-01, -1.0161e-01,  8.8919e-01,  4.9045e-01,\n        -1.4877e-01,  3.3958e-01,  9.7425e-01,  5.9559e-01,  2.4011e-01],\n       [-6.8855e-01,  8.1781e-01,  9.8580e-02,  3.4054e-01, -4.4240e-01,\n        -7.7332e-01,  1.3956e+00, -7.7553e-01, -9.4304e-01,  1.7447e+00,\n        -6.9879e-03,  3.7578e-01, -2.9686e-01, -1.9215e-01,  7.5455e-01,\n         4.3748e-01, -2.7991e-01,  1.2666e+00,  8.8786e-01, -5.0848e-02,\n        -1.4053e-01, -5.4843e-01,  2.6395e-01, -4.7937e-02, -5.2002e-01,\n        -3.9977e-01, -1.3612e+00,  8.8496e-01,  7.4954e-01, -6.6381e-01,\n        -1.5418e-01,  6.8033e-01, -3.2441e-01,  8.6011e-01, -4.2209e-01,\n         6.5069e-01, -4.2943e-01, -2.3837e-01, -1.7162e-01,  6.1762e-02,\n        -3.6540e-01,  6.5233e-01, -8.9933e-01, -5.9702e-02,  6.8245e-01,\n        -1.0596e+00,  2.9860e-01, -4.5470e-01,  1.0405e-02, -5.8657e-01]])]\n",
     "output_type": "stream"
    }
   ]
  },
  {
   "cell_type": "code",
   "metadata": {
    "tags": [],
    "deepnote_to_be_reexecuted": false,
    "source_hash": "1affb95c",
    "execution_start": 1646344493120,
    "execution_millis": 43,
    "deepnote_output_heights": [
     611
    ],
    "cell_id": "00006-9dd844b4-f41e-4b13-93af-afcfdaa25e9a",
    "deepnote_cell_height": 207,
    "deepnote_cell_type": "code"
   },
   "source": "with open('data/shake/raw.txt', 'r') as shake:\n    all_lines= []\n    for line in shake.readlines():\n        all_lines.append(line)\n\n    all_lines = list(set(all_lines))\n    \n    # GET LIST OF SHAKE SNAPSHOTS",
   "execution_count": 12,
   "outputs": []
  },
  {
   "cell_type": "code",
   "metadata": {
    "tags": [],
    "deepnote_to_be_reexecuted": false,
    "source_hash": "d2031b75",
    "execution_start": 1646344496133,
    "execution_millis": 34,
    "deepnote_output_heights": [
     194
    ],
    "cell_id": "00007-2c0b7ff7-fb6a-4898-8268-1454af477eab",
    "deepnote_cell_height": 207,
    "deepnote_cell_type": "code"
   },
   "source": "with open('data/drake/clean.txt', 'r') as drake:\n    all_lines= []\n    for line in drake.readlines():\n        all_lines.append(line)\n\n    all_lines = list(set(all_lines))\n    \n    # GET LIST OF DRAKE SNAPSHOTS",
   "execution_count": 13,
   "outputs": []
  },
  {
   "cell_type": "code",
   "metadata": {
    "tags": [],
    "deepnote_to_be_reexecuted": false,
    "source_hash": "e05623f7",
    "execution_start": 1646344496529,
    "execution_millis": 1,
    "deepnote_output_heights": [
     21.1875
    ],
    "cell_id": "00011-a570a183-0703-4cb7-b388-b249ee4bcef1",
    "deepnote_cell_height": 81,
    "deepnote_cell_type": "code"
   },
   "source": "# COMBINE INTO TRAINING AND TEST SETS",
   "execution_count": 14,
   "outputs": []
  },
  {
   "cell_type": "code",
   "metadata": {
    "tags": [],
    "deepnote_to_be_reexecuted": false,
    "source_hash": "b3ad9e6c",
    "execution_start": 1646344496846,
    "execution_millis": 5,
    "cell_id": "00012-b22b6560-61d8-4d69-a288-340042d87bde",
    "deepnote_cell_height": 189,
    "deepnote_cell_type": "code"
   },
   "source": "# DEFINE MODEL\nclass ShakeOrDrake(nn.Module):\n    def __init__(self):\n        pass\n\n    def forward(self, x):\n        pass",
   "execution_count": 15,
   "outputs": []
  },
  {
   "cell_type": "code",
   "metadata": {
    "tags": [],
    "cell_id": "00019-6e7d8b97-821f-45d8-a0da-c252fd3b7cce",
    "deepnote_cell_height": 81,
    "deepnote_to_be_reexecuted": false,
    "source_hash": "6121d9f7",
    "execution_start": 1646344497470,
    "execution_millis": 0,
    "deepnote_cell_type": "code"
   },
   "source": "# TRAIN MODEL",
   "execution_count": 16,
   "outputs": []
  },
  {
   "cell_type": "code",
   "metadata": {
    "cell_id": "387bb254-a36f-4b5a-8048-9c985aced1a8",
    "tags": [],
    "deepnote_cell_height": 81,
    "deepnote_to_be_reexecuted": true,
    "source_hash": "91985a8f",
    "deepnote_cell_type": "code"
   },
   "source": "# TEST MODEL",
   "execution_count": null,
   "outputs": []
  },
  {
   "cell_type": "code",
   "metadata": {
    "cell_id": "3b7779f7-68fb-4468-8188-271fc00beccc",
    "tags": [],
    "deepnote_cell_height": 66,
    "deepnote_cell_type": "code"
   },
   "source": "",
   "execution_count": null,
   "outputs": []
  },
  {
   "cell_type": "markdown",
   "source": "<a style='text-decoration:none;line-height:16px;display:flex;color:#5B5B62;padding:10px;justify-content:end;' href='https://deepnote.com?utm_source=created-in-deepnote-cell&projectId=d19f7349-666c-452b-af43-7a0d9fe413f0' target=\"_blank\">\n<img alt='Created in deepnote.com' style='display:inline;max-height:16px;margin:0px;margin-right:7.5px;' src='data:image/svg+xml;base64,PD94bWwgdmVyc2lvbj0iMS4wIiBlbmNvZGluZz0iVVRGLTgiPz4KPHN2ZyB3aWR0aD0iODBweCIgaGVpZ2h0PSI4MHB4IiB2aWV3Qm94PSIwIDAgODAgODAiIHZlcnNpb249IjEuMSIgeG1sbnM9Imh0dHA6Ly93d3cudzMub3JnLzIwMDAvc3ZnIiB4bWxuczp4bGluaz0iaHR0cDovL3d3dy53My5vcmcvMTk5OS94bGluayI+CiAgICA8IS0tIEdlbmVyYXRvcjogU2tldGNoIDU0LjEgKDc2NDkwKSAtIGh0dHBzOi8vc2tldGNoYXBwLmNvbSAtLT4KICAgIDx0aXRsZT5Hcm91cCAzPC90aXRsZT4KICAgIDxkZXNjPkNyZWF0ZWQgd2l0aCBTa2V0Y2guPC9kZXNjPgogICAgPGcgaWQ9IkxhbmRpbmciIHN0cm9rZT0ibm9uZSIgc3Ryb2tlLXdpZHRoPSIxIiBmaWxsPSJub25lIiBmaWxsLXJ1bGU9ImV2ZW5vZGQiPgogICAgICAgIDxnIGlkPSJBcnRib2FyZCIgdHJhbnNmb3JtPSJ0cmFuc2xhdGUoLTEyMzUuMDAwMDAwLCAtNzkuMDAwMDAwKSI+CiAgICAgICAgICAgIDxnIGlkPSJHcm91cC0zIiB0cmFuc2Zvcm09InRyYW5zbGF0ZSgxMjM1LjAwMDAwMCwgNzkuMDAwMDAwKSI+CiAgICAgICAgICAgICAgICA8cG9seWdvbiBpZD0iUGF0aC0yMCIgZmlsbD0iIzAyNjVCNCIgcG9pbnRzPSIyLjM3NjIzNzYyIDgwIDM4LjA0NzY2NjcgODAgNTcuODIxNzgyMiA3My44MDU3NTkyIDU3LjgyMTc4MjIgMzIuNzU5MjczOSAzOS4xNDAyMjc4IDMxLjY4MzE2ODMiPjwvcG9seWdvbj4KICAgICAgICAgICAgICAgIDxwYXRoIGQ9Ik0zNS4wMDc3MTgsODAgQzQyLjkwNjIwMDcsNzYuNDU0OTM1OCA0Ny41NjQ5MTY3LDcxLjU0MjI2NzEgNDguOTgzODY2LDY1LjI2MTk5MzkgQzUxLjExMjI4OTksNTUuODQxNTg0MiA0MS42NzcxNzk1LDQ5LjIxMjIyODQgMjUuNjIzOTg0Niw0OS4yMTIyMjg0IEMyNS40ODQ5Mjg5LDQ5LjEyNjg0NDggMjkuODI2MTI5Niw0My4yODM4MjQ4IDM4LjY0NzU4NjksMzEuNjgzMTY4MyBMNzIuODcxMjg3MSwzMi41NTQ0MjUgTDY1LjI4MDk3Myw2Ny42NzYzNDIxIEw1MS4xMTIyODk5LDc3LjM3NjE0NCBMMzUuMDA3NzE4LDgwIFoiIGlkPSJQYXRoLTIyIiBmaWxsPSIjMDAyODY4Ij48L3BhdGg+CiAgICAgICAgICAgICAgICA8cGF0aCBkPSJNMCwzNy43MzA0NDA1IEwyNy4xMTQ1MzcsMC4yNTcxMTE0MzYgQzYyLjM3MTUxMjMsLTEuOTkwNzE3MDEgODAsMTAuNTAwMzkyNyA4MCwzNy43MzA0NDA1IEM4MCw2NC45NjA0ODgyIDY0Ljc3NjUwMzgsNzkuMDUwMzQxNCAzNC4zMjk1MTEzLDgwIEM0Ny4wNTUzNDg5LDc3LjU2NzA4MDggNTMuNDE4MjY3Nyw3MC4zMTM2MTAzIDUzLjQxODI2NzcsNTguMjM5NTg4NSBDNTMuNDE4MjY3Nyw0MC4xMjg1NTU3IDM2LjMwMzk1NDQsMzcuNzMwNDQwNSAyNS4yMjc0MTcsMzcuNzMwNDQwNSBDMTcuODQzMDU4NiwzNy43MzA0NDA1IDkuNDMzOTE5NjYsMzcuNzMwNDQwNSAwLDM3LjczMDQ0MDUgWiIgaWQ9IlBhdGgtMTkiIGZpbGw9IiMzNzkzRUYiPjwvcGF0aD4KICAgICAgICAgICAgPC9nPgogICAgICAgIDwvZz4KICAgIDwvZz4KPC9zdmc+' > </img>\nCreated in <span style='font-weight:600;margin-left:4px;'>Deepnote</span></a>",
   "metadata": {
    "tags": [],
    "created_in_deepnote_cell": true,
    "deepnote_cell_type": "markdown"
   }
  }
 ],
 "nbformat": 4,
 "nbformat_minor": 2,
 "metadata": {
  "orig_nbformat": 2,
  "deepnote": {
   "is_reactive": false
  },
  "deepnote_notebook_id": "08886839-c2a9-4ebc-b27e-9ad5e701058f",
  "deepnote_execution_queue": []
 }
}